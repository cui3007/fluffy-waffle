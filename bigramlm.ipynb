{
 "cells": [
  {
   "cell_type": "code",
   "execution_count": 43,
   "metadata": {},
   "outputs": [],
   "source": [
    "import random\n",
    "from collections import defaultdict\n",
    "import os"
   ]
  },
  {
   "cell_type": "code",
   "execution_count": 44,
   "metadata": {},
   "outputs": [],
   "source": [
    "def list_dir_re(dirpath): #文件名称\n",
    "    fnames = []\n",
    "    files = os.listdir(dirpath)\n",
    "    for fname in files:\n",
    "        fname = os.path.join(dirpath,fname)\n",
    "        if os.path.isdir(fname):\n",
    "            fnames.extend(list_dir_re(fname))\n",
    "        else:\n",
    "            fnames.append(fname)\n",
    "\n",
    "    return fnames"
   ]
  },
  {
   "cell_type": "code",
   "execution_count": 45,
   "metadata": {},
   "outputs": [],
   "source": [
    "class BigramModel:\n",
    "    def __init__(self, vocabulary, m=1):\n",
    "        self.vocabulary = vocabulary + ['B', 'E'] # 预设词表，增加开始和结束符号\n",
    "        self.m = m # 平滑系数（伪计数）\n",
    "        self.bigram_counts = defaultdict(lambda: defaultdict(int)) # 记录每个词对序列的出现频次\n",
    "        self.total_counts = defaultdict(int) # 记录每个词的出现频次\n",
    "\n",
    "    def build_LM(self,data_dir):\n",
    "        files = list_dir_re(data_dir)\n",
    "        print(files)\n",
    "        for fname in files:\n",
    "            with open(fname, 'r', encoding='utf-8') as f:\n",
    "                text = f.read()\n",
    "                sentences = text.split('\\n') # 从文件中读取文本并分割成句子\n",
    "                for sentence in sentences:\n",
    "                    tokens = ['B'] + list(sentence) + ['E'] # 在每个句子的开头和结尾添加开始和结束符号\n",
    "                    for i in range(len(tokens) - 1):\n",
    "                        self.bigram_counts[tokens[i]][tokens[i + 1]] += 1 # 更新词对序列的出现频次\n",
    "                        self.total_counts[tokens[i]] += 1 # 更新词的出现频次\n",
    "\n",
    "\n",
    "    def sample_word(self, word):\n",
    "            if word not in self.total_counts: # 如果词不在词表中，随机返回一个词\n",
    "                return random.choice(self.vocabulary)\n",
    "            else:\n",
    "                words = []\n",
    "                counts = []\n",
    "                for next_word in self.vocabulary: # 遍历词表中的所有词\n",
    "                    count = self.bigram_counts[word][next_word] + self.m # 获取词对序列的出现频次，并加上平滑系数\n",
    "                    words.append(next_word)\n",
    "                    counts.append(count)\n",
    "                return random.choices(words, weights=counts, k=1)[0] # 根据概率分布抽样一个词\n",
    "\n",
    "    def generate_text(self, length):\n",
    "        current_word = 'B' # 从开始符号开始生成文本\n",
    "        print(current_word,end='')\n",
    "        for i in range(length):\n",
    "            time.sleep(0.2)\n",
    "            current_word = self.sample_word(current_word) # 抽样下一个词\n",
    "            if current_word == 'E': # 如果抽到结束符号，停止生成文本\n",
    "                print('E',end='')\n",
    "                break\n",
    "            print(current_word,end='')"
   ]
  },
  {
   "cell_type": "code",
   "execution_count": 46,
   "metadata": {},
   "outputs": [
    {
     "name": "stdout",
     "output_type": "stream",
     "text": [
      "['data\\\\baikeContent.txt', 'data\\\\corpus_10000.txt', 'data\\\\pku_training_seg.utf8']\n"
     ]
    }
   ],
   "source": [
    "if __name__ == '__main__':\n",
    "    char_set = list()\n",
    "    with open('chars.txt',encoding='utf-8') as fread:\n",
    "        for line in fread:\n",
    "            char_set.append(line.strip())\n",
    "    #print(char_set)\n",
    "    blm = BigramModel(char_set)\n",
    "    blm.build_LM(data_dir='data')"
   ]
  },
  {
   "cell_type": "code",
   "execution_count": 48,
   "metadata": {},
   "outputs": [
    {
     "name": "stdout",
     "output_type": "stream",
     "text": [
      "B的疾娇臂墨管瞀指导班"
     ]
    }
   ],
   "source": [
    "blm.generate_text(10)"
   ]
  }
 ],
 "metadata": {
  "kernelspec": {
   "display_name": "Python 3 (ipykernel)",
   "language": "python",
   "name": "python3"
  },
  "language_info": {
   "codemirror_mode": {
    "name": "ipython",
    "version": 3
   },
   "file_extension": ".py",
   "mimetype": "text/x-python",
   "name": "python",
   "nbconvert_exporter": "python",
   "pygments_lexer": "ipython3",
   "version": "3.7.13"
  }
 },
 "nbformat": 4,
 "nbformat_minor": 2
}
